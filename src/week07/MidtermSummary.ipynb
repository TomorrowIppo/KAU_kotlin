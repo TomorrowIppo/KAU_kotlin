{
 "cells": [
  {
   "metadata": {},
   "cell_type": "markdown",
   "source": "# 📝 Kotlin 중간고사 핵심 요약"
  },
  {
   "metadata": {
    "collapsed": true,
    "ExecuteTime": {
     "end_time": "2025-10-19T15:44:00.521179300Z",
     "start_time": "2025-10-19T15:44:00.501124800Z"
    }
   },
   "cell_type": "markdown",
   "source": [
    "## Chapter 1 & 2: Kotlin 기초와 기본 타입 🏛️\n",
    "\n",
    "Kotlin의 가장 기본적인 문법과 데이터 타입에 대한 내용입니다. 모든 문제의 기본이 되므로 각 개념을 정확히 숙지해야 합니다.\n",
    "\n",
    "- 변수 선언: **val은 변경 불가능한(immutable) 변수이고, 한 번 초기화하면 값을 바꿀 수 없습니다. var**는 변경 가능한(mutable) 변수입니다. 좋은 코드는 val을 최대한 많이 사용하는 것입니다."
   ]
  },
  {
   "metadata": {
    "ExecuteTime": {
     "end_time": "2025-10-19T15:46:51.929550100Z",
     "start_time": "2025-10-19T15:46:51.822851Z"
    }
   },
   "cell_type": "code",
   "source": [
    "val pi = 3.14 // 값 변경 불가\n",
    "var sum = 1 // 값 변경 가능\n",
    "sum = sum + 2 // OK"
   ],
   "outputs": [],
   "execution_count": 3
  },
  {
   "metadata": {},
   "cell_type": "markdown",
   "source": "- 타입 추론: 변수 선언 시 초기값을 바탕으로 컴파일러가 타입을 자동으로 유추하므로, : Int와 같이 타입을 명시하지 않아도 됩니다. 단, 초기값을 생략할 경우 반드시 타입을 명시해야 합니다."
  },
  {
   "metadata": {
    "ExecuteTime": {
     "end_time": "2025-10-19T15:47:42.895325500Z",
     "start_time": "2025-10-19T15:47:42.853239900Z"
    }
   },
   "cell_type": "code",
   "source": [
    "val n = 15 // Int로 추론\n",
    "var text: String // 초기값 없으므로 타입 명시\n",
    "text = \"Hello!\""
   ],
   "outputs": [],
   "execution_count": 4
  },
  {
   "metadata": {},
   "cell_type": "markdown",
   "source": "- 문자열 (String): 문자열 템플릿 ($name 또는 ${expression})을 사용해 문자열 안에 변수나 식을 쉽게 넣을 수 있습니다. \"\"\"로 감싸면 이스케이프 없이 여러 줄의 문자열을 작성할 수 있습니다 (로우 문자열)."
  },
  {
   "metadata": {
    "ExecuteTime": {
     "end_time": "2025-10-19T15:48:07.218004500Z",
     "start_time": "2025-10-19T15:48:07.122053400Z"
    }
   },
   "cell_type": "code",
   "source": [
    "val name = \"Kotlin\"\n",
    "println(\"Hello, $name!\") // \"Hello, Kotlin!\" 출력"
   ],
   "outputs": [
    {
     "name": "stdout",
     "output_type": "stream",
     "text": [
      "Hello, Kotlin!\r\n"
     ]
    }
   ],
   "execution_count": 5
  },
  {
   "metadata": {},
   "cell_type": "markdown",
   "source": "- 배열 (Array): arrayOf()나 intArrayOf() 등으로 생성합니다. 배열의 내용을 비교할 때는 ==가 아닌 contentEquals() 함수를 사용해야 합니다."
  },
  {
   "metadata": {
    "ExecuteTime": {
     "end_time": "2025-10-19T15:48:38.452700600Z",
     "start_time": "2025-10-19T15:48:38.297621700Z"
    }
   },
   "cell_type": "code",
   "source": [
    "val arr1 = intArrayOf(1, 2, 3)\n",
    "val arr2 = intArrayOf(1, 2, 3)\n",
    "\n",
    "println(arr1 == arr2) // false (객체 주소 비교)\n",
    "println(arr1.contentEquals(arr2)) // true (내용 비교)"
   ],
   "outputs": [
    {
     "name": "stdout",
     "output_type": "stream",
     "text": [
      "false\r\n",
      "true\r\n"
     ]
    }
   ],
   "execution_count": 6
  },
  {
   "metadata": {},
   "cell_type": "markdown",
   "source": [
    "### ⭐ 시험 핵심 포인트\n",
    "- val과 var의 차이점을 묻는 문제는 나올 확률이 매우 높습니다.\n",
    "\n",
    "- 문자열 템플릿 사용법은 코드 작성 문제에서 유용하게 쓰입니다.\n",
    "\n",
    "- 배열 비교 시 ==를 사용하면 주소값을 비교하여 false가 나온다는 점을 꼭 기억하세요."
   ]
  },
  {
   "metadata": {},
   "cell_type": "markdown",
   "source": [
    "## Chapter 3: 제어 흐름 및 함수 ⚙️\n",
    "\n",
    "프로그램의 흐름을 제어하는 조건문, 반복문과 코드의 재사용성을 높이는 함수에 대한 내용입니다."
   ]
  },
  {
   "metadata": {},
   "cell_type": "markdown",
   "source": [
    "### 함수:\n",
    "fun 키워드로 정의하며, 다양한 편의 기능을 제공합니다."
   ]
  },
  {
   "metadata": {},
   "cell_type": "markdown",
   "source": "- Single-Expression 함수: 본문이 하나의 식으로 이루어진 경우, {}와 return을 생략하고 =로 연결할 수 있습니다."
  },
  {
   "metadata": {
    "ExecuteTime": {
     "end_time": "2025-10-19T15:51:25.786723100Z",
     "start_time": "2025-10-19T15:51:25.726714500Z"
    }
   },
   "cell_type": "code",
   "source": "fun circleArea(radius: Double): Double = PI * radius * radius",
   "outputs": [],
   "execution_count": 8
  },
  {
   "metadata": {},
   "cell_type": "markdown",
   "source": "- 이름있는 인자 (Named Arguments): 함수 호출 시 파라미터 이름을 명시할 수 있어 순서가 바뀌어도 괜찮습니다."
  },
  {
   "metadata": {
    "ExecuteTime": {
     "end_time": "2025-10-19T15:52:44.835246900Z",
     "start_time": "2025-10-19T15:52:44.795334200Z"
    }
   },
   "cell_type": "code",
   "source": [
    "fun rectangleArea(width: Double, height: Double): Double = width * height\n",
    "\n",
    "rectangleArea(height = 10.0, width = 50.0) // 순서가 달라도 OK"
   ],
   "outputs": [
    {
     "data": {
      "text/plain": [
       "500.0"
      ]
     },
     "execution_count": 10,
     "metadata": {},
     "output_type": "execute_result"
    }
   ],
   "execution_count": 10
  },
  {
   "metadata": {},
   "cell_type": "markdown",
   "source": "- 디폴트 파라미터 (Default Arguments): 파라미터에 기본값을 지정할 수 있습니다."
  },
  {
   "metadata": {
    "ExecuteTime": {
     "end_time": "2025-10-19T15:54:07.154059700Z",
     "start_time": "2025-10-19T15:54:03.853173900Z"
    }
   },
   "cell_type": "code",
   "source": [
    "fun readInt(radix: Int = 10) = readLine()!!.toInt(radix)\n",
    "readInt() // radix = 10으로 자동 호출"
   ],
   "outputs": [
    {
     "data": {
      "text/plain": [
       "100"
      ]
     },
     "execution_count": 14,
     "metadata": {},
     "output_type": "execute_result"
    }
   ],
   "execution_count": 14
  },
  {
   "metadata": {},
   "cell_type": "markdown",
   "source": [
    "### 조건문:\n",
    "- if-else: Kotlin에서는 식(Expression)으로 사용될 수 있어 그 결과값을 변수에 바로 대입할 수 있습니다."
   ]
  },
  {
   "metadata": {
    "ExecuteTime": {
     "end_time": "2025-10-19T15:55:20.526441400Z",
     "start_time": "2025-10-19T15:55:20.475383700Z"
    }
   },
   "cell_type": "code",
   "source": "fun max(a: Int, b: Int) = if (a > b) a else b",
   "outputs": [],
   "execution_count": 16
  },
  {
   "metadata": {},
   "cell_type": "markdown",
   "source": "- when: switch문보다 훨씬 강력하며, 식으로 사용할 수 있습니다."
  },
  {
   "metadata": {
    "ExecuteTime": {
     "end_time": "2025-10-19T15:56:50.209039400Z",
     "start_time": "2025-10-19T15:56:50.161427700Z"
    }
   },
   "cell_type": "code",
   "source": [
    "fun hexDigit(n: Int) = when(n) {\n",
    "    in 0..9 -> '0' + n\n",
    "    in 10..15 -> 'A' + n - 10\n",
    "    else -> '?'\n",
    "}\n",
    "hexDigit(15)"
   ],
   "outputs": [
    {
     "data": {
      "text/plain": [
       "F"
      ]
     },
     "execution_count": 22,
     "metadata": {},
     "output_type": "execute_result"
    }
   ],
   "execution_count": 22
  },
  {
   "metadata": {},
   "cell_type": "markdown",
   "source": [
    "### 범위 (Ranges):\n",
    ".. 연산자로 범위를 만듭니다. in 연산자로 특정 값이 범위에 포함되는지 확인할 수 있습니다. 끝자리를 포함하지 않으려면 **until**을 사용합니다."
   ]
  },
  {
   "metadata": {
    "ExecuteTime": {
     "end_time": "2025-10-19T15:57:31.347125200Z",
     "start_time": "2025-10-19T15:57:31.309035500Z"
    }
   },
   "cell_type": "code",
   "source": [
    "val twoDigits = 10..99 // 10부터 99까지\n",
    "println(33 in twoDigits) // num이 10~99 사이에 있으면 true\n",
    "\n",
    "val rangeUntil = 10 until 100 // 10부터 99까지 (100 미포함)"
   ],
   "outputs": [
    {
     "name": "stdout",
     "output_type": "stream",
     "text": [
      "true\r\n"
     ]
    }
   ],
   "execution_count": 24
  },
  {
   "metadata": {},
   "cell_type": "markdown",
   "source": [
    "### 예외 처리:\n",
    "try-catch 구문을 사용하며, 이 역시 식으로 사용하여 값을 반환할 수 있습니다."
   ]
  },
  {
   "metadata": {
    "ExecuteTime": {
     "end_time": "2025-10-19T15:57:52.258323100Z",
     "start_time": "2025-10-19T15:57:52.201617500Z"
    }
   },
   "cell_type": "code",
   "source": [
    "fun readInt(default: Int) = try {\n",
    "    readLine()!!.toInt()\n",
    "} catch (e: NumberFormatException) {\n",
    "    default\n",
    "}"
   ],
   "outputs": [],
   "execution_count": 25
  },
  {
   "metadata": {
    "ExecuteTime": {
     "end_time": "2025-10-19T15:58:17.127103400Z",
     "start_time": "2025-10-19T15:58:17.122040600Z"
    }
   },
   "cell_type": "markdown",
   "source": [
    "### ⭐ 시험 핵심 포인트\n",
    "- if와 when을 식으로 사용하는 방법은 Kotlin의 핵심 특징이므로 반드시 알아두세요.\n",
    "\n",
    "- 이름있는 인자와 디폴트 파라미터는 함수의 유연성을 높여주는 중요한 기능입니다.\n",
    "\n",
    "- 범위를 만들 때 .. 와 until 의 차이점 (마지막 값 포함 여부)을 정확히 구분해야 합니다."
   ]
  },
  {
   "metadata": {},
   "cell_type": "markdown",
   "source": [
    "## Chapter 4: 클래스와 객체 📦\n",
    "\n",
    "객체지향 프로그래밍의 핵심인 클래스와 객체, 그리고 Kotlin의 가장 중요한 특징인 Null 안전성에 대한 내용입니다."
   ]
  },
  {
   "metadata": {},
   "cell_type": "markdown",
   "source": [
    "### 생성자 및 프로퍼티:\n",
    "\n",
    "- 주 생성자에서 프로퍼티 선언: 생성자 파라미터에 val이나 var를 붙이면 바로 프로퍼티로 만들 수 있습니다."
   ]
  },
  {
   "metadata": {
    "ExecuteTime": {
     "end_time": "2025-10-19T16:00:55.697898100Z",
     "start_time": "2025-10-19T16:00:55.643549800Z"
    }
   },
   "cell_type": "code",
   "source": [
    "class Person(val firstName: String, val familyName: String) { // 프로퍼티 바로 선언\n",
    "    fun fullName() = \"$firstName $familyName\"\n",
    "}"
   ],
   "outputs": [],
   "execution_count": 27
  },
  {
   "metadata": {},
   "cell_type": "markdown",
   "source": "- init 블록: 객체 생성 시 실행되는 초기화 로직을 담습니다."
  },
  {
   "metadata": {
    "ExecuteTime": {
     "end_time": "2025-10-19T16:01:17.142176400Z",
     "start_time": "2025-10-19T16:01:17.087372500Z"
    }
   },
   "cell_type": "code",
   "source": [
    "class Person(fullName: String) {\n",
    "    val firstName: String\n",
    "    init {\n",
    "        // 복잡한 초기화 로직\n",
    "        val names = fullName.split(\" \")\n",
    "        firstName = names[0]\n",
    "    }\n",
    "}"
   ],
   "outputs": [],
   "execution_count": 28
  },
  {
   "metadata": {},
   "cell_type": "markdown",
   "source": [
    "### 프로퍼티:\n",
    "\n",
    "- 커스텀 접근자 (Getter/Setter): get()과 set(value)을 정의하여 프로퍼티의 동작을 직접 지정할 수 있습니다."
   ]
  },
  {
   "metadata": {
    "ExecuteTime": {
     "end_time": "2025-10-19T16:01:57.016393600Z",
     "start_time": "2025-10-19T16:01:56.987282800Z"
    }
   },
   "cell_type": "code",
   "source": [
    "class Person(val firstName: String, val familyName: String) {\n",
    "    val fullName: String\n",
    "        get() = \"$firstName $familyName\" // 커스텀 게터\n",
    "}"
   ],
   "outputs": [],
   "execution_count": 29
  },
  {
   "metadata": {},
   "cell_type": "markdown",
   "source": "- lateinit: var 프로퍼티의 초기화를 나중으로 미룰 때 사용합니다."
  },
  {
   "metadata": {
    "ExecuteTime": {
     "end_time": "2025-10-19T16:02:17.096748500Z",
     "start_time": "2025-10-19T16:02:17.067779Z"
    }
   },
   "cell_type": "code",
   "source": [
    "class Content {\n",
    "    lateinit var text: String // 나중에 초기화하겠다고 약속\n",
    "}"
   ],
   "outputs": [],
   "execution_count": 30
  },
  {
   "metadata": {},
   "cell_type": "markdown",
   "source": "- by lazy: val 프로퍼티에 사용하며, 최초 접근 시 람다식이 실행되어 초기화됩니다."
  },
  {
   "metadata": {
    "ExecuteTime": {
     "end_time": "2025-10-19T16:04:05.082545900Z",
     "start_time": "2025-10-19T16:04:05.029428500Z"
    }
   },
   "cell_type": "code",
   "source": [
    "import java.io.*\n",
    "\n",
    "val text by lazy { // 처음 사용할 때 파일 읽기 실행\n",
    "    File(\"data.txt\").readText()\n",
    "}\n",
    "println(text)"
   ],
   "outputs": [
    {
     "name": "stdout",
     "output_type": "stream",
     "text": [
      "this is a dummy text file.\r\n"
     ]
    }
   ],
   "execution_count": 34
  },
  {
   "metadata": {},
   "cell_type": "markdown",
   "source": [
    "### companion object (동반 객체):\n",
    "클래스 내에 선언되는 object로, 자바의 static 멤버와 유사한 역할을 합니다."
   ]
  },
  {
   "metadata": {
    "ExecuteTime": {
     "end_time": "2025-10-19T16:04:47.910425200Z",
     "start_time": "2025-10-19T16:04:47.848291800Z"
    }
   },
   "cell_type": "code",
   "source": [
    "class Application private constructor(val name: String) {\n",
    "    companion object {\n",
    "        fun create(args: Array<String>): Application? { // 정적 팩토리 메소드처럼 사용\n",
    "            val name = args.firstOrNull() ?: return null\n",
    "            return Application(name)\n",
    "        }\n",
    "    }\n",
    "}\n",
    "// 호출: val app = Application.create(args)"
   ],
   "outputs": [],
   "execution_count": 35
  },
  {
   "metadata": {},
   "cell_type": "markdown",
   "source": [
    "### ⭐ 시험 핵심 포인트\n",
    "- 주 생성자와 init 블록의 역할은 클래스 설계의 핵심입니다.\n",
    "\n",
    "- 프로퍼티 초기화 방법인 lateinit과 by lazy의 차이점(var vs val, Null 안전성)을 비교해서 알아두세요.\n",
    "\n",
    "- **companion object**는 자바의 static을 대체하는 중요한 개념이므로 용도를 정확히 이해해야 합니다."
   ]
  },
  {
   "metadata": {},
   "cell_type": "markdown",
   "source": [
    "## Chapter 4-2: 널 가능성 (Null Safety) ⭐⭐⭐\n",
    "Kotlin의 가장 중요하고 독창적인 특징으로, 시험에 반드시 출제된다고 봐도 무방합니다.\n",
    "### Nullable 타입:\n",
    "타입 이름 뒤에 **?**를 붙이면 해당 변수에 null을 저장할 수 있습니다."
   ]
  },
  {
   "metadata": {
    "ExecuteTime": {
     "end_time": "2025-10-19T16:06:35.738372100Z",
     "start_time": "2025-10-19T16:06:35.714759200Z"
    }
   },
   "cell_type": "code",
   "source": [
    "var s: String? = \"abc\" // null 가능\n",
    "s = null // OK"
   ],
   "outputs": [],
   "execution_count": 36
  },
  {
   "metadata": {},
   "cell_type": "markdown",
   "source": [
    "### ** 안전한 호출 (?.)**과 엘비스 연산자 (?:):\n",
    "이 둘의 조합은 Null 처리에 필수적입니다."
   ]
  },
  {
   "metadata": {
    "ExecuteTime": {
     "end_time": "2025-10-19T16:06:50.745966Z",
     "start_time": "2025-10-19T16:06:50.702138100Z"
    }
   },
   "cell_type": "code",
   "source": [
    "// readLine()이 null을 반환할 수 있음\n",
    "// toInt() 호출 전 ?. 로 null 체크\n",
    "// 만약 null이면 ?: 뒤의 0으로 대체\n",
    "fun readInt() = readLine()?.toInt() ?: 0"
   ],
   "outputs": [],
   "execution_count": 37
  },
  {
   "metadata": {},
   "cell_type": "markdown",
   "source": [
    "### 널 아님 단언 (!!):\n",
    "프로그래머가 null이 아니라고 확신할 때 사용하지만, 위험합니다."
   ]
  },
  {
   "metadata": {
    "ExecuteTime": {
     "end_time": "2025-10-19T16:07:06.080186300Z",
     "start_time": "2025-10-19T16:07:06.055094200Z"
    }
   },
   "cell_type": "code",
   "source": [
    "// readLine()이 null이면 여기서 NPE 발생!\n",
    "fun readInt() = readLine()!!.toInt()"
   ],
   "outputs": [],
   "execution_count": 38
  },
  {
   "metadata": {},
   "cell_type": "markdown",
   "source": [
    "### 스마트 캐스트:\n",
    "if문으로 널 체크를 하고 나면, 해당 블록 안에서는 자동으로 널이 될 수 없는 타입으로 취급됩니다."
   ]
  },
  {
   "metadata": {
    "ExecuteTime": {
     "end_time": "2025-10-19T16:07:20.365317900Z",
     "start_time": "2025-10-19T16:07:20.321612600Z"
    }
   },
   "cell_type": "code",
   "source": [
    "fun isLetterString(s: String?): Boolean {\n",
    "    if (s == null) return false\n",
    "    // 이 아래부터 s는 String으로 취급 (String? 아님)\n",
    "    return s.isNotEmpty() // ?. 없이 바로 접근 가능\n",
    "}"
   ],
   "outputs": [],
   "execution_count": 39
  },
  {
   "metadata": {},
   "cell_type": "markdown",
   "source": [
    "### ⭐ 시험 핵심 포인트\n",
    "\n",
    "- **?. (안전한 호출)**와 **?: (엘비스 연산자)**를 조합하여 Nullable 타입을 안전하게 다루는 코드 작성은 반드시 연습해야 합니다.\n",
    "\n",
    "- !! 연산자의 위험성과 스마트 캐스트가 동작하는 원리를 이해하는 것이 중요합니다."
   ]
  },
  {
   "metadata": {},
   "cell_type": "markdown",
   "source": [
    "## Chapter 5: 고급 기능 및 함수형 프로그래밍 🚀\n",
    "Kotlin을 더 강력하고 간결하게 만들어주는 고급 기능들입니다.\n",
    "### 확장 함수 (Extensions):\n",
    "기존 클래스에 새로운 함수를 추가하는 기능입니다."
   ]
  },
  {
   "metadata": {
    "ExecuteTime": {
     "end_time": "2025-10-19T16:09:18.574983400Z",
     "start_time": "2025-10-19T16:09:18.515352100Z"
    }
   },
   "cell_type": "code",
   "source": [
    "fun String.truncate(maxLength: Int): String {\n",
    "    return if (length <= maxLength) this else substring(0, maxLength)\n",
    "}\n",
    "\n",
    "println(\"Hello World\".truncate(5)) // \"Hello\" 출력"
   ],
   "outputs": [
    {
     "name": "stdout",
     "output_type": "stream",
     "text": [
      "Hello\r\n"
     ]
    }
   ],
   "execution_count": 40
  },
  {
   "metadata": {},
   "cell_type": "markdown",
   "source": [
    "### 고차 함수와 람다 (Lambda):\n",
    "함수를 인자로 받거나, 이름 없는 함수(람다)를 사용하는 방법입니다.\n",
    "\n",
    "1) 람다를 마지막 인자로 사용: 람다를 괄호 밖으로 뺄 수 있습니다.\n",
    "\n",
    "2) 파라미터가 하나인 람다: 파라미터를 **it**으로 간단하게 참조할 수 있습니다."
   ]
  },
  {
   "metadata": {
    "ExecuteTime": {
     "end_time": "2025-10-19T16:10:08.734959600Z",
     "start_time": "2025-10-19T16:10:08.685682100Z"
    }
   },
   "cell_type": "code",
   "source": [
    "// it은 0부터 9까지의 인덱스를 의미\n",
    "val arr = IntArray(10) { it * it } // { n -> n * n } 과 동일"
   ],
   "outputs": [],
   "execution_count": 41
  },
  {
   "metadata": {},
   "cell_type": "markdown",
   "source": [
    "### 영역 함수 (Scope Functions):\n",
    "특정 객체의 컨텍스트 내에서 코드 블록을 실행하여 코드를 간결하게 만듭니다.\n",
    "- run: this로 객체에 접근, 마지막 식을 반환."
   ]
  },
  {
   "metadata": {
    "ExecuteTime": {
     "end_time": "2025-10-19T16:23:28.398276600Z",
     "start_time": "2025-10-19T16:23:28.353070100Z"
    }
   },
   "cell_type": "code",
   "source": [
    "class Address() {\n",
    "    var city: String = \"\"\n",
    "    var street: String = \"\"\n",
    "    var house: String = \"\"\n",
    "    fun post(txt: String): String = txt\n",
    "}\n",
    "\n",
    "val msg = Address().run {\n",
    "    city = \"London\"\n",
    "    post(\"Hello!\") // 이 함수의 반환값이 msg에 저장됨\n",
    "}\n",
    "println(msg)"
   ],
   "outputs": [
    {
     "name": "stdout",
     "output_type": "stream",
     "text": [
      "Hello!\r\n"
     ]
    }
   ],
   "execution_count": 55
  },
  {
   "metadata": {},
   "cell_type": "markdown",
   "source": "- apply: this로 객체에 접근, 객체 자신을 반환. (객체 초기화에 유용)"
  },
  {
   "metadata": {
    "ExecuteTime": {
     "end_time": "2025-10-19T16:23:30.381963200Z",
     "start_time": "2025-10-19T16:23:30.342211500Z"
    }
   },
   "cell_type": "code",
   "source": [
    "val address = Address().apply {\n",
    "    city = \"London\"\n",
    "    street = \"Baker Street\"\n",
    "} // address 변수에는 설정이 완료된 Address 객체가 저장됨\n",
    "println(address.city + address.street)"
   ],
   "outputs": [
    {
     "name": "stdout",
     "output_type": "stream",
     "text": [
      "LondonBaker Street\r\n"
     ]
    }
   ],
   "execution_count": 56
  },
  {
   "metadata": {},
   "cell_type": "markdown",
   "source": "- with: 특정 객체를 반복해서 사용해야 할 때 코드의 앞부분을 줄여주는 역할을 합니다. run과 기능은 거의 동일하지만, 객체 뒤에 점(.)을 찍어 호출하는 대신 with 함수의 인자로 객체를 넘겨주는 점이 다릅니다."
  },
  {
   "metadata": {
    "ExecuteTime": {
     "end_time": "2025-10-19T16:23:32.192512500Z",
     "start_time": "2025-10-19T16:23:32.145556200Z"
    }
   },
   "cell_type": "code",
   "source": [
    "// with를 사용하지 않았을 때\n",
    "val address = Address()\n",
    "address.city = \"London\"\n",
    "address.street = \"Baker Street\"\n",
    "address.house = \"221b\"\n",
    "val msg1 = address.post(\"Hello!\")\n",
    "println(msg1 + \" without with scope function\")\n",
    "\n",
    "// with를 사용했을 때\n",
    "val msg2 = with(Address()) {\n",
    "    city = \"London\"       // this.city와 동일\n",
    "    street = \"Baker Street\" // this.street과 동일\n",
    "    house = \"221b\"        // this.house와 동일\n",
    "    post(\"Hello!\")        // 람다의 마지막 줄이므로 이 결과가 msg에 저장됨 [cite: 534]\n",
    "}\n",
    "println(msg2 + \" with 'with' scope function\")"
   ],
   "outputs": [
    {
     "name": "stdout",
     "output_type": "stream",
     "text": [
      "Hello! without with scope function\r\n",
      "Hello! with 'with' scope function\r\n"
     ]
    }
   ],
   "execution_count": 57
  },
  {
   "metadata": {},
   "cell_type": "markdown",
   "source": "- let은 널이 아닐 경우에만 코드를 실행하고 싶을 때 ?. 연산자와 함께 아주 유용하게 쓰입니다. run이나 with와 가장 큰 차이점은 컨텍스트 객체를 this 대신 **it**으로 참조한다는 점입니다."
  },
  {
   "metadata": {
    "ExecuteTime": {
     "end_time": "2025-10-19T16:23:39.998684700Z",
     "start_time": "2025-10-19T16:23:39.951576600Z"
    }
   },
   "cell_type": "code",
   "source": [
    "val msg = Address().let {\n",
    "    it.city = \"London\"       // it으로 객체에 접근\n",
    "    it.street = \"Baker Street\"\n",
    "    it.house = \"221b\"\n",
    "    it.post(\"Hello!\")        // 이 결과가 msg에 저장됨\n",
    "}\n",
    "println(msg)"
   ],
   "outputs": [
    {
     "name": "stdout",
     "output_type": "stream",
     "text": [
      "Hello!\r\n"
     ]
    }
   ],
   "execution_count": 59
  },
  {
   "metadata": {},
   "cell_type": "markdown",
   "source": "- also는 let과 거의 똑같지만, 딱 한 가지 결정적인 차이가 있습니다. let이 람다의 마지막 결과를 반환하는 반면, also는 자기 자신(컨텍스트 객체)을 그대로 다시 반환합니다. 그래서 \"부가적인 작업\"을 수행할 때 주로 사용됩니다 (그래서 이름도 also)."
  },
  {
   "metadata": {
    "ExecuteTime": {
     "end_time": "2025-10-19T16:25:58.431007Z",
     "start_time": "2025-10-19T16:25:58.379404500Z"
    }
   },
   "cell_type": "code",
   "source": [
    "// apply와 비교\n",
    "val address = Address().apply {\n",
    "    // Address 객체를 초기화\n",
    "    city = \"London\"\n",
    "    street = \"Baker Street\"\n",
    "}\n",
    "// address 변수에는 초기화가 끝난 Address 객체가 담김\n",
    "\n",
    "// also 예제\n",
    "val addressWithLog = Address()\n",
    "    .also {\n",
    "        // address 객체에 대한 부가적인 작업 (ex: 로그 남기기)\n",
    "        println(\"Address 객체 생성됨: ${it.city}\")\n",
    "    }\n",
    "    .apply {\n",
    "        // 이어서 초기화 작업\n",
    "        city = \"London\"\n",
    "    }\n",
    "// println(addressWithLog.city)\n",
    "\n",
    "// addressWithLog에는 apply까지 마친 Address 객체가 담김"
   ],
   "outputs": [
    {
     "name": "stdout",
     "output_type": "stream",
     "text": [
      "Address 객체 생성됨: \r\n"
     ]
    }
   ],
   "execution_count": 62
  },
  {
   "metadata": {},
   "cell_type": "markdown",
   "source": "![image.png](attachment:a5cf6228-089e-4111-8ec2-c448f0c23769.png)",
   "attachments": {
    "a5cf6228-089e-4111-8ec2-c448f0c23769.png": {
     "image/png": "[encoded data removed]"
    }
   }
  },
  {
   "metadata": {},
   "cell_type": "markdown",
   "source": [
    "### ⭐ 시험 핵심 포인트\n",
    "- 확장 함수를 정의하고 사용하는 방법은 실용성이 높아 출제 가능성이 있습니다.\n",
    "\n",
    "- 고차 함수에서 람다식을 괄호 밖으로 빼는 문법과 it 키워드는 Kotlin 스타일의 코드를 작성하는 데 필수적입니다.\n",
    "\n",
    "- 5가지 영역 함수의 차이점 (수신 객체를 this로 참조하는지 it으로 참조하는지, 반환값이 무엇인지)을 표로 정리해서 외워두면 좋습니다."
   ]
  }
 ],
 "metadata": {
  "kernelspec": {
   "display_name": "Kotlin",
   "language": "kotlin",
   "name": "kotlin"
  },
  "language_info": {
   "name": "kotlin",
   "version": "2.2.20-Beta2",
   "mimetype": "text/x-kotlin",
   "file_extension": ".kt",
   "pygments_lexer": "kotlin",
   "codemirror_mode": "text/x-kotlin",
   "nbconvert_exporter": ""
  }
 },
 "nbformat": 4,
 "nbformat_minor": 0
}
