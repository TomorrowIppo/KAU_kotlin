{
 "cells": [
  {
   "metadata": {},
   "cell_type": "markdown",
   "source": "# ✈️ KAU OOP Kotlin Midterm Summary"
  },
  {
   "metadata": {},
   "cell_type": "markdown",
   "source": [
    "# Week01\n",
    "\n",
    "## 객체지향 프로그래밍\n",
    "\n",
    "- 프로그램을 수많은 객체라는 기본 단위로 나누고 이들의 상호작용을 서술하는 방식\n",
    "- 데이터와 함수를 병합하여 프로그램의 단위인‘객체’ 및 ‘클래스’를 정의"
   ]
  },
  {
   "metadata": {},
   "cell_type": "markdown",
   "source": [
    "## 객체지향 프로그래밍 특징\n",
    "### 자료 추상화 (Data Abstraction)\n",
    "불필요한 정보는 숨기고 중요한 정보만 노출\n",
    "### 상속\n",
    "연관된 클래스 간에 상하위 연관성을 두어 클래스를 선언\n",
    "- ex) 게임 캐릭터 –> 몹 –> 칼날부리\n",
    "### 다형성\n",
    "한 요소에 여러 개념을 넣어 놓는 것 (개념간에는 일관성이 있어야 함)\n",
    "- 오버라이딩 : 같은 이름의 메소드가 서로다른 클래스에서 다른 동작 수행\n",
    "- 오버로딩 : 같은 이름의 메소드가 인자의 형태에 따라 다른 동작 수행"
   ]
  },
  {
   "metadata": {},
   "cell_type": "markdown",
   "source": [
    "## 객체지향 프로그래밍 언어 발전 과정\n",
    "- Simula 67: 최초의 객체지향 언어\n",
    "- Smalltalk: 객체지향언어를 수면위로 끌어올린 언어\n",
    "- C++: 객체지향 개념을 C언어 위에 구현\n",
    "- Java: 자바 가상기계라는 객체지향에 최적화된 실행환경을 정의하고 그\n",
    "위에 객체지향언어를 정의. 상업적 성공을 거둔 최초의 객체지향 언어\n",
    "- Kotlin: Java의 한계를 돌파하기 위하여 새로운 언어로 설계\n"
   ]
  },
  {
   "metadata": {},
   "cell_type": "markdown",
   "source": [
    "## Kotlin 특징\n",
    "- 안전성\n",
    "    - 타입 추론\n",
    "    - Null Pointer Exception 예방 문법\n",
    "    - Smart Cast를 통한 안전한 타입 변환\n",
    "- 다중 패러다임\n",
    "    - 함수형 프로그래밍\n",
    "    - 동시성 프로그래밍 (coroutine)\n",
    "- 간결성과 표현력\n",
    "- 상호운용성 / 다중플랫폼"
   ]
  },
  {
   "metadata": {},
   "cell_type": "markdown",
   "source": [
    "## Kotlin 기초 문법\n",
    "### 주석 & 변수"
   ]
  },
  {
   "metadata": {
    "ExecuteTime": {
     "end_time": "2025-10-17T21:27:56.488325Z",
     "start_time": "2025-10-17T21:27:51.513794Z"
    }
   },
   "cell_type": "code",
   "source": [
    "// 한 줄짜리 주석\n",
    "\n",
    "/* 여러 줄\n",
    "   주석\n",
    " */\n",
    "\n",
    "/* 주석안에 /* 주석을*/ 넣는 것이 가능합니다*/\n",
    "\n",
    "fun main() {\n",
    "    /*\n",
    "        var : variable              |   val : value\n",
    "        우리가 흔히 아는 변수            |   read-only (C,C++ : const, python : tuple 느낌이랑 유사함)\n",
    "        가변 변수(mutable variable)   |   불변 변수(immutable variable)\n",
    "     */\n",
    "    val timeInSeconds = 15\n",
    "    /*\n",
    "        - readLine(): 표준입력에서 한줄을 읽어 문자열로 반환하는 함수\n",
    "        - !! : 널 아님 단언 (앞의 결과가 null이 아님을 프로그래머가 단언하여 줌)\n",
    "        - toInt(): 앞의 문자열을 Int 값으로 변환\n",
    "     */\n",
    "     val a = readLine()!!.toInt()\n",
    "     val b = readLine()!!.toInt()\n",
    "     println(\"$a + $b = ${a + b}\")\n",
    "}\n",
    "main()"
   ],
   "outputs": [
    {
     "name": "stdout",
     "output_type": "stream",
     "text": [
      "30 + 50 = 80\n"
     ]
    }
   ],
   "execution_count": 6
  },
  {
   "metadata": {},
   "cell_type": "markdown",
   "source": "### 타입 추론 & 초깃값 생략"
  },
  {
   "metadata": {
    "ExecuteTime": {
     "end_time": "2025-10-17T21:34:45.755930Z",
     "start_time": "2025-10-17T21:34:45.706096Z"
    }
   },
   "cell_type": "code",
   "source": [
    "fun main() {\n",
    "    /*\n",
    "        val n: Int = 15\n",
    "        val text: String = \"Hello\"\n",
    "\n",
    "        타입 추론으로 생략을 하면 아래와 같이 된다.\n",
    "     */\n",
    "\n",
    "    val n = 15\n",
    "    val text = \"Hello\"\n",
    "\n",
    "    // 초깃값을 생략할 시에는 반드시 타입을 명시해야 한다.\n",
    "    val text1: String\n",
    "    text1 = \"Hello!\"\n",
    "\n",
    "    // 변수에 값이 대입되었는지 확실하지 않은 경우, 컴파일 오류가 발생한다.\n",
    "    // val n: Int\n",
    "    // println(n + 1) // Error: variable n is not initialized\n",
    "}\n",
    "main()"
   ],
   "outputs": [],
   "execution_count": 7
  }
 ],
 "metadata": {
  "kernelspec": {
   "display_name": "Kotlin",
   "language": "kotlin",
   "name": "kotlin"
  },
  "language_info": {
   "name": "kotlin",
   "version": "1.9.23",
   "mimetype": "text/x-kotlin",
   "file_extension": ".kt",
   "pygments_lexer": "kotlin",
   "codemirror_mode": "text/x-kotlin",
   "nbconvert_exporter": ""
  }
 },
 "nbformat": 4,
 "nbformat_minor": 0
}
