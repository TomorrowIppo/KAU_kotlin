{
 "cells": [
  {
   "metadata": {},
   "cell_type": "markdown",
   "source": "# ✈️ KAU OOP Kotlin Midterm Summary"
  },
  {
   "metadata": {},
   "cell_type": "markdown",
   "source": [
    "# Week02\n",
    "\n",
    "## 객체지향 프로그래밍\n",
    "\n",
    "- 프로그램을 수많은 객체라는 기본 단위로 나누고 이들의 상호작용을 서술하는 방식\n",
    "- 데이터와 함수를 병합하여 프로그램의 단위인‘객체’ 및 ‘클래스’를 정의"
   ]
  }
 ],
 "metadata": {
  "kernelspec": {
   "display_name": "Kotlin",
   "language": "kotlin",
   "name": "kotlin"
  },
  "language_info": {
   "name": "kotlin",
   "version": "1.9.23",
   "mimetype": "text/x-kotlin",
   "file_extension": ".kt",
   "pygments_lexer": "kotlin",
   "codemirror_mode": "text/x-kotlin",
   "nbconvert_exporter": ""
  }
 },
 "nbformat": 4,
 "nbformat_minor": 0
}
